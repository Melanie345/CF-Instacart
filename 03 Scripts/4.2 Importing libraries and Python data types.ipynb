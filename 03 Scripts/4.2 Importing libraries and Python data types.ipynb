{
 "cells": [
  {
   "cell_type": "code",
   "execution_count": 1,
   "id": "e6cbe08f-fa0e-4726-819c-bb4df4aad40b",
   "metadata": {},
   "outputs": [],
   "source": [
    "# Import libraries\n",
    "import pandas as pd\n",
    "import numpy as np\n",
    "import os"
   ]
  },
  {
   "cell_type": "markdown",
   "id": "63f3476a-e6e3-4983-8dc0-0b7ed6b88f7a",
   "metadata": {},
   "source": [
    "## 02. Data types"
   ]
  },
  {
   "cell_type": "code",
   "execution_count": 3,
   "id": "4e8c77f8-42e3-4e32-8592-99c307840a0d",
   "metadata": {},
   "outputs": [],
   "source": [
    "x = 50"
   ]
  },
  {
   "cell_type": "code",
   "execution_count": 4,
   "id": "eab389de-d393-450e-833d-2a6d936e9241",
   "metadata": {},
   "outputs": [
    {
     "data": {
      "text/plain": [
       "100"
      ]
     },
     "execution_count": 4,
     "metadata": {},
     "output_type": "execute_result"
    }
   ],
   "source": [
    "x + x"
   ]
  },
  {
   "cell_type": "code",
   "execution_count": 5,
   "id": "bd767142-667e-44ca-a771-660dc5007ad2",
   "metadata": {},
   "outputs": [],
   "source": [
    "y = 25"
   ]
  },
  {
   "cell_type": "code",
   "execution_count": 6,
   "id": "6f09053b-b3c5-4e5f-858b-e77d2a17fae9",
   "metadata": {},
   "outputs": [],
   "source": [
    "n = 75"
   ]
  },
  {
   "cell_type": "code",
   "execution_count": 7,
   "id": "093e05aa-6f02-4247-a7a6-0b97e0d7b51b",
   "metadata": {},
   "outputs": [
    {
     "data": {
      "text/plain": [
       "100"
      ]
     },
     "execution_count": 7,
     "metadata": {},
     "output_type": "execute_result"
    }
   ],
   "source": [
    "y + n"
   ]
  },
  {
   "cell_type": "code",
   "execution_count": 8,
   "id": "c6b6abe8-27c9-4e54-874b-eec14013ec60",
   "metadata": {},
   "outputs": [],
   "source": [
    "z = 125"
   ]
  },
  {
   "cell_type": "code",
   "execution_count": 9,
   "id": "0e0b99e3-6fde-44fa-91cb-8ee8c0ad4445",
   "metadata": {},
   "outputs": [
    {
     "data": {
      "text/plain": [
       "100"
      ]
     },
     "execution_count": 9,
     "metadata": {},
     "output_type": "execute_result"
    }
   ],
   "source": [
    "z - y"
   ]
  },
  {
   "cell_type": "code",
   "execution_count": 10,
   "id": "e5618c59-241b-45fe-9a11-775e3805aa02",
   "metadata": {},
   "outputs": [],
   "source": [
    "a = 5.23"
   ]
  },
  {
   "cell_type": "code",
   "execution_count": 11,
   "id": "9c4b4f32-2d2d-44a9-8d77-7bced15554cd",
   "metadata": {},
   "outputs": [],
   "source": [
    "b = 7.28"
   ]
  },
  {
   "cell_type": "code",
   "execution_count": 12,
   "id": "c1c93192-9a54-48a6-8c3c-34e57330d62d",
   "metadata": {},
   "outputs": [
    {
     "data": {
      "text/plain": [
       "0.7184065934065934"
      ]
     },
     "execution_count": 12,
     "metadata": {},
     "output_type": "execute_result"
    }
   ],
   "source": [
    "a / b"
   ]
  },
  {
   "cell_type": "code",
   "execution_count": 13,
   "id": "00eebdb0-6f85-4ce6-af97-9d74a5458100",
   "metadata": {},
   "outputs": [],
   "source": [
    "c = 's'"
   ]
  },
  {
   "cell_type": "code",
   "execution_count": 14,
   "id": "4599be20-01e7-44ce-8bcd-7109a9614a5f",
   "metadata": {},
   "outputs": [],
   "source": [
    "d = 'h'"
   ]
  },
  {
   "cell_type": "code",
   "execution_count": 15,
   "id": "bbb32e15-1a17-4694-9b5b-ee5725b00b1a",
   "metadata": {},
   "outputs": [],
   "source": [
    "e = 'o'"
   ]
  },
  {
   "cell_type": "code",
   "execution_count": 16,
   "id": "4cbc684d-c5d6-4496-9d4f-aa04af206900",
   "metadata": {},
   "outputs": [],
   "source": [
    "f = 'r'"
   ]
  },
  {
   "cell_type": "code",
   "execution_count": 17,
   "id": "68f9d01a-266b-45cd-979a-efc84df86d45",
   "metadata": {},
   "outputs": [],
   "source": [
    "g = 't'"
   ]
  },
  {
   "cell_type": "code",
   "execution_count": 18,
   "id": "ba27a8bc-208f-495b-bc96-afd758b2cb70",
   "metadata": {},
   "outputs": [
    {
     "data": {
      "text/plain": [
       "'short'"
      ]
     },
     "execution_count": 18,
     "metadata": {},
     "output_type": "execute_result"
    }
   ],
   "source": [
    "c + d + e + f + g"
   ]
  },
  {
   "cell_type": "code",
   "execution_count": 19,
   "id": "979b5a26-e997-4ae6-8764-f6839ec81b74",
   "metadata": {},
   "outputs": [],
   "source": [
    "h = 'Python is fun. '"
   ]
  },
  {
   "cell_type": "code",
   "execution_count": 20,
   "id": "24153eab-52b6-4a75-903d-827cace88420",
   "metadata": {},
   "outputs": [],
   "source": [
    "i = 'Today is April 4.'"
   ]
  },
  {
   "cell_type": "code",
   "execution_count": 21,
   "id": "95de9239-a7d7-40fa-afee-b229be0d896e",
   "metadata": {},
   "outputs": [
    {
     "data": {
      "text/plain": [
       "'Python is fun. Today is April 4.'"
      ]
     },
     "execution_count": 21,
     "metadata": {},
     "output_type": "execute_result"
    }
   ],
   "source": [
    "h + i"
   ]
  },
  {
   "cell_type": "code",
   "execution_count": null,
   "id": "d9d8a54a-3f8d-4192-8b34-7aeb0bf2a674",
   "metadata": {},
   "outputs": [],
   "source": []
  }
 ],
 "metadata": {
  "kernelspec": {
   "display_name": "Python 3 (ipykernel)",
   "language": "python",
   "name": "python3"
  },
  "language_info": {
   "codemirror_mode": {
    "name": "ipython",
    "version": 3
   },
   "file_extension": ".py",
   "mimetype": "text/x-python",
   "name": "python",
   "nbconvert_exporter": "python",
   "pygments_lexer": "ipython3",
   "version": "3.11.7"
  }
 },
 "nbformat": 4,
 "nbformat_minor": 5
}
